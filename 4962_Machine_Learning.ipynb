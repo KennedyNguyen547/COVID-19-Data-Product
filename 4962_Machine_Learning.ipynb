{
 "cells": [
  {
   "cell_type": "code",
   "execution_count": 1,
   "metadata": {},
   "outputs": [
    {
     "name": "stdout",
     "output_type": "stream",
     "text": [
      "0.23.1\n"
     ]
    }
   ],
   "source": [
    "import pandas as pd\n",
    "import numpy as np\n",
    "import math\n",
    "from sklearn import metrics\n",
    "from sklearn.model_selection import train_test_split\n",
    "from sklearn.impute import KNNImputer\n",
    "from sklearn.linear_model import LogisticRegression\n",
    "import matplotlib.pyplot as plt\n",
    "from sklearn.feature_selection import chi2\n",
    "from sklearn.feature_selection import SelectKBest\n",
    "\n",
    "# used to check the version of the SkLearn library\n",
    "import sklearn\n",
    "print(sklearn.__version__)"
   ]
  },
  {
   "cell_type": "code",
   "execution_count": 2,
   "metadata": {},
   "outputs": [
    {
     "name": "stdout",
     "output_type": "stream",
     "text": [
      "age15-30                                       0\n",
      "age31-49                                       0\n",
      "age50-64                                       0\n",
      "age>=65                                        0\n",
      "Male                                           0\n",
      "Smoker                                        62\n",
      "symp_Cough                                     0\n",
      "symp_General malaise                           0\n",
      "symp_Fatigue                                   0\n",
      "symp_Myalgia or arthralgia                     0\n",
      "symp_Dyspnoea                                  0\n",
      "symp_Diarrhoea                                 0\n",
      "symp_Headache                                  0\n",
      "symp_Anosmia                                   0\n",
      "symp_Dysgeusia                                 0\n",
      "symp_Sore throat                               0\n",
      "symp_Blocked nose                              0\n",
      "symp_usea or vomiting                          0\n",
      "symp_Sputum production                         0\n",
      "symp_Chills                                    0\n",
      "symp_Asthenia                                  0\n",
      "symp_Chest pain                                0\n",
      "symp_Disorientation                            0\n",
      "symp_Conjuntivitis                             0\n",
      "symp_Hemoptysis                                0\n",
      "symp_Cutaneous lesions                         0\n",
      "exam_Auscultatory alterations                 99\n",
      "exam_Tachypnoea                               99\n",
      "exam_Tachycardia                              99\n",
      "exam_Pharyngitis                              99\n",
      "exam_Cutaneous lesions                        99\n",
      "exam_Tonsillopharyngitis                      99\n",
      "oxy_saturation<92                            117\n",
      "comor_Any comorbidity                          0\n",
      "comor_Hypertension                             0\n",
      "comor_Diabetes                                 0\n",
      "comor_Obesity                                  0\n",
      "comor_Dyslipidemia                             0\n",
      "comor_Cancer                                   0\n",
      "comor_Chronic kidney disease                   0\n",
      "comor_Heart disease                            0\n",
      "comor_Autoimmune disease                       0\n",
      "comor_Chronic obstructive pulmory disease      0\n",
      "comor_Depression                               0\n",
      "comor_Cardiac arrhythmia                       0\n",
      "comor_Thyroid alterations                      0\n",
      "comor_Asthma                                   0\n",
      "comor_Liver disease                            0\n",
      "comor_Cerebrovascular disease                  0\n",
      "comor_Alzheimer disease                        0\n",
      "comor_Bronchiectasis                           0\n",
      "comor_Fibromyalgia                             0\n",
      "comor_Anemia                                   0\n",
      "comor_Arthritis                                0\n",
      "comor_HIV                                      0\n",
      "comor_Syphilis                                 0\n",
      "comor_Tuberculosis                             0\n",
      "xray_Bilateral pulmory infiltrates            95\n",
      "xray_Interstitial/ground glass pattern        95\n",
      "xray_Lobar pulmory infiltrate                 95\n",
      "cat_Bilateral pulmory infiltrates            294\n",
      "cat_Interstitial/ground glass pattern        294\n",
      "cat_Pulmory thromboembolism                  294\n",
      "cat_Emphysema                                294\n",
      "cat_Lobar pulmory infiltrates                294\n",
      "cat_Pneumonia                                294\n",
      "cat_Atelectasis                              294\n",
      "cat_Pleural effusion                         294\n",
      "comp_Any complication                          0\n",
      "comp_Pneumonia                                 0\n",
      "comp_Adult_respiratory_distress_syndrome       0\n",
      "comp_Rel_failure                               0\n",
      "comp_Pulmory_thromboembolism                   0\n",
      "comp_Sepsis                                    0\n",
      "comp_Multiorgan_failure                        0\n",
      "comp_Electrolyte_alterations                   0\n",
      "comp_Hematologic_alterations                   0\n",
      "comp_Lung_cancer                               0\n",
      "treat_Hydroxychloroquine                       0\n",
      "treat_Azithromycin                             0\n",
      "treat_Lopivir/Ritovir                          0\n",
      "treat_Oxygen_therapy                           0\n",
      "treat_Intravenous_antibiotics                  0\n",
      "treat_Glucocorticoids                          0\n",
      "treat_Tocilizumab                              0\n",
      "treat_Cephalosporins                           0\n",
      "treat_Low_molecular_weight_heparin             0\n",
      "treat_Remdesivir                               0\n",
      "treat_Amoxicillin                              0\n",
      "treat_Interferon                               0\n",
      "treat_Rituximab                                0\n",
      "treat_Daruvir                                  0\n",
      "treat_Entecavir                                0\n",
      "Leuko>10000                                  111\n",
      "lymph<1000                                   112\n",
      "platelet<150000                              114\n",
      "hemoglob<10                                  112\n",
      "c-reac>10                                    112\n",
      "procalcit>0.5                                211\n",
      "lact_dehydr>250                              133\n",
      "aminotransf_aspar>40                         131\n",
      "alan_aminotransf>40                          134\n",
      "billirubin>1.0                               152\n",
      "creat_kinas>200                              299\n",
      "creatinine>1.5                               112\n",
      "d-dimer>500                                  157\n",
      "Sodium<134                                   111\n",
      "Potassium<3.5                                120\n",
      ">37.5deg                                       0\n",
      "evol_Death                                     0\n",
      "evol_ICU_admission                             0\n",
      "evol_Hospitalization                           0\n",
      "evol_Recovered                                 0\n",
      "dtype: int64\n"
     ]
    }
   ],
   "source": [
    "%matplotlib inline\n",
    "\n",
    "# setting the maximum amount of rows and columns Jupyter will print. If the\n",
    "# second parameter is changed changed to 'None', you can see all the columns and rows.\n",
    "pd.set_option('max_columns', None)\n",
    "pd.set_option('max_rows', None)\n",
    "\n",
    "# creating a pandas dataframe from the data\n",
    "df = pd.read_csv('./Third Component Machine Learning/all_categorical.csv')\n",
    "\n",
    "# checking the number of empty cells\n",
    "print(df.isnull().sum())"
   ]
  },
  {
   "cell_type": "code",
   "execution_count": 3,
   "metadata": {},
   "outputs": [
    {
     "name": "stdout",
     "output_type": "stream",
     "text": [
      "5.59% of patients recorded died.\n",
      "94.41% of patients recorded did not die\n",
      "\n",
      "13.04% of patients recorded were admitted to ICU.\n",
      "86.96% of patients recorded were not admitted to ICU.\n",
      "\n",
      "49.07% of patients recorded were admitted to a hospital.\n",
      "50.93% of patients recorded were not admitted to a hospital.\n",
      "\n",
      "14.91% of patients recorded recovered.\n",
      "85.09% of patients recorded did not recover.\n",
      "\n"
     ]
    }
   ],
   "source": [
    "# obtaining patient percentage for each outcome\n",
    "print(str(round(len(df[df['evol_Death'] == 1])/len(df) * 100, 2)) + '% of patients recorded died.')\n",
    "print(str(round(len(df[df['evol_Death'] == 0])/len(df) * 100, 2)) + '% of patients recorded did not die\\n')\n",
    "\n",
    "print(str(round(len(df[df['evol_ICU_admission'] == 1])/len(df) * 100, 2)) + '% of patients recorded were admitted to ICU.')\n",
    "print(str(round(len(df[df['evol_ICU_admission'] == 0])/len(df) * 100, 2)) + '% of patients recorded were not admitted to ICU.\\n')\n",
    "\n",
    "print(str(round(len(df[df['evol_Hospitalization'] == 1])/len(df) * 100, 2)) + '% of patients recorded were admitted to a hospital.')\n",
    "print(str(round(len(df[df['evol_Hospitalization'] == 0])/len(df) * 100, 2)) + '% of patients recorded were not admitted to a hospital.\\n')\n",
    "\n",
    "print(str(round(len(df[df['evol_Recovered'] == 1])/len(df) * 100, 2)) + '% of patients recorded recovered.')\n",
    "print(str(round(len(df[df['evol_Recovered'] == 0])/len(df) * 100, 2)) + '% of patients recorded did not recover.\\n')"
   ]
  },
  {
   "cell_type": "code",
   "execution_count": 4,
   "metadata": {},
   "outputs": [
    {
     "name": "stdout",
     "output_type": "stream",
     "text": [
      "50.0% of patients recorded were male.\n",
      "50.0% of patients recorded were female.\n",
      "\n"
     ]
    }
   ],
   "source": [
    "# gender percentage\n",
    "print(str(round(len(df[df['Male'] == 1])/len(df) * 100, 2)) + '% of patients recorded were male.')\n",
    "print(str(round(len(df[df['Male'] == 0])/len(df) * 100, 2)) + '% of patients recorded were female.\\n')"
   ]
  },
  {
   "cell_type": "code",
   "execution_count": 5,
   "metadata": {},
   "outputs": [],
   "source": [
    "# will iterate though all the dataframe columns and select the features that are not equal to our target label.\n",
    "# you can modify this to also leave out \"commmon\" features already found to find \"rarer\" features that contribute\n",
    "# to each outcome\n",
    "def select_features():\n",
    "    features = []\n",
    "    \n",
    "    for i in df.columns:\n",
    "        if i != 'evol_Death' and i != 'evol_ICU_admission' and i != 'evol_Hospitalization' and i != 'evol_Recovered':\n",
    "            features.append(i)\n",
    "                \n",
    "    return features\n",
    "\n",
    "# will iterate through the data selected features picked by the chi2 algorithm and print out the name of said features\n",
    "def get_features(selected, df):\n",
    "    features = []\n",
    "    \n",
    "    print('\\u0332'.join('\\nBest features for accuracy:'))\n",
    "    for i in selected:\n",
    "        print(df.columns[i])\n",
    "        features.append(df.columns[i])\n",
    "            \n",
    "    return features\n",
    "    \n",
    "# creating a features matrix and a copy of the matrix to use later after fitting occurs    \n",
    "X = df[select_features()]\n",
    "X_copy = X\n",
    "\n",
    "# creating the KNNImputer and applying it to the features matrix created above. This will\n",
    "# cause the features matrix to become a numpy array\n",
    "imputer = KNNImputer(n_neighbors=int(math.sqrt(len(X))), weights=\"distance\")\n",
    "X = imputer.fit_transform(X)\n",
    "\n",
    "# creating the Logistic Regression model that will be used to predict and obtain fpr,tpr,prediction probability and accuracy\n",
    "model = LogisticRegression(max_iter=7000)\n",
    "# we want the best features that contribute to the outcomes. chi2 does that, k = 9 represents the number of features we want\n",
    "# to choose. Changing k will return that amount of features selected by chi2\n",
    "kBest = SelectKBest(chi2, k=9)"
   ]
  },
  {
   "cell_type": "markdown",
   "metadata": {},
   "source": [
    "# Death"
   ]
  },
  {
   "cell_type": "code",
   "execution_count": 6,
   "metadata": {},
   "outputs": [
    {
     "name": "stdout",
     "output_type": "stream",
     "text": [
      "\n",
      "̲B̲e̲s̲t̲ ̲f̲e̲a̲t̲u̲r̲e̲s̲ ̲f̲o̲r̲ ̲a̲c̲c̲u̲r̲a̲c̲y̲:\n",
      "age>=65\n",
      "comor_Hypertension\n",
      "comor_Autoimmune disease\n",
      "comor_Cerebrovascular disease\n",
      "comor_Tuberculosis\n",
      "comp_Adult_respiratory_distress_syndrome\n",
      "comp_Sepsis\n",
      "comp_Multiorgan_failure\n",
      "creatinine>1.5\n",
      "\n",
      "Accuracy for Death:  0.9538461538461539\n",
      "\n",
      "Area under the curve:  0.9569892473118279\n"
     ]
    },
    {
     "data": {
      "image/png": "[encoded data removed]",
      "text/plain": [
       "<Figure size 432x288 with 1 Axes>"
      ]
     },
     "metadata": {
      "needs_background": "light"
     },
     "output_type": "display_data"
    }
   ],
   "source": [
    "y_death = df['evol_Death']\n",
    "\n",
    "# performing chi2 test on the features matrix and target label. This will return a numpy array\n",
    "new_X_death = kBest.fit_transform(X,y_death)\n",
    "# finding and returning the indices of the features selected by the chi2 test\n",
    "cols = kBest.get_support(indices=True)\n",
    "# getting the name of the columns from the indices returned. Can be stored in a dictionary for each outcome to try and\n",
    "# determine the shared features between all the outcomes.\n",
    "get_features(cols, X_copy)\n",
    "\n",
    "# splitting our data into a training and testing set.\n",
    "X_train,X_test,y_train,y_test = train_test_split(new_X_death,y_death,test_size=0.20,random_state=42)\n",
    "# fitting our training features matrix and training label target to our Logistic Regression model\n",
    "model.fit(X_train,y_train)\n",
    "\n",
    "# predicting the outcome of our model\n",
    "y_pred=model.predict(X_test)\n",
    "\n",
    "# determining the accuracy of our model\n",
    "print(f'\\nAccuracy for Death: ',metrics.accuracy_score(y_test, y_pred))\n",
    "\n",
    "# determining the probability of each feature being a 1 or 0\n",
    "y_predict_prob_lr = model.predict_proba(X_test)\n",
    "# getting the fpr and tpr from the testing target label and the probability\n",
    "fpr, tpr, thresholds = metrics.roc_curve(y_test, y_predict_prob_lr[:,1], pos_label=1)\n",
    "# print('\\u0332'.join('\\nFalse Positive Rate:\\n'), fpr)\n",
    "# print('\\u0332'.join('True Positive Rate:\\n'), tpr)\n",
    "\n",
    "# calculating the area under the curve using the false positive and true positive rates\n",
    "AUC = metrics.auc(fpr, tpr)\n",
    "print('\\nArea under the curve: ', AUC)\n",
    "\n",
    "# plotting the fpr and tpr on a graph\n",
    "plt.figure()\n",
    "\n",
    "# will plot the curve and create what the legend will display\n",
    "plt.plot(fpr, tpr, color='red', lw=2, \n",
    "         label='ROC Curve (area = %0.2f)' % AUC)\n",
    "\n",
    "# plotting the random guess line\n",
    "plt.plot([0, 1], [0, 1], color='blue', lw=1, linestyle='--')\n",
    "\n",
    "# setting the ranges of the axis\n",
    "plt.xlim([-0.005, 1.005])\n",
    "plt.ylim([0.0, 1.01])\n",
    "\n",
    "plt.xlabel('False Positive Rate')\n",
    "plt.ylabel('True Positive Rate')\n",
    "plt.title('Receiver operating characteristic')\n",
    "plt.legend(loc=\"lower right\")\n",
    "\n",
    "plt.show()"
   ]
  },
  {
   "cell_type": "markdown",
   "metadata": {},
   "source": [
    "# ICU Admission"
   ]
  },
  {
   "cell_type": "code",
   "execution_count": 7,
   "metadata": {},
   "outputs": [
    {
     "name": "stdout",
     "output_type": "stream",
     "text": [
      "\n",
      "̲B̲e̲s̲t̲ ̲f̲e̲a̲t̲u̲r̲e̲s̲ ̲f̲o̲r̲ ̲a̲c̲c̲u̲r̲a̲c̲y̲:\n",
      "comor_Diabetes\n",
      "xray_Bilateral pulmory infiltrates\n",
      "comp_Any complication\n",
      "comp_Adult_respiratory_distress_syndrome\n",
      "treat_Oxygen_therapy\n",
      "treat_Intravenous_antibiotics\n",
      "treat_Glucocorticoids\n",
      "treat_Tocilizumab\n",
      "treat_Interferon\n",
      "\n",
      "Accuracy for ICU Admission:  0.8307692307692308\n",
      "\n",
      "Area under the curve:  0.805921052631579\n"
     ]
    },
    {
     "data": {
      "image/png": "[encoded data removed]",
      "text/plain": [
       "<Figure size 432x288 with 1 Axes>"
      ]
     },
     "metadata": {
      "needs_background": "light"
     },
     "output_type": "display_data"
    }
   ],
   "source": [
    "y_icu = df['evol_ICU_admission']\n",
    "\n",
    "# performing chi2 test on the features matrix and target label. This will return a numpy array\n",
    "new_X_icu = kBest.fit_transform(X,y_icu)\n",
    "# finding and returning the indices of the features selected by the chi2 test\n",
    "cols = kBest.get_support(indices=True)\n",
    "# getting the name of the columns from the indices returned. Can be stored in a dictionary for each outcome to try and\n",
    "# determine the shared features between all the outcomes.\n",
    "get_features(cols, X_copy)\n",
    "\n",
    "# splitting our data into a training and testing set.\n",
    "X_train,X_test,y_train,y_test = train_test_split(new_X_icu,y_icu,test_size=0.20,random_state=42)\n",
    "# fitting our training features matrix and training label target to our Logistic Regression model\n",
    "model.fit(X_train,y_train)\n",
    "\n",
    "# predicting the outcome of our model\n",
    "y_pred=model.predict(X_test)\n",
    "\n",
    "# determining the accuracy of our model\n",
    "print(f'\\nAccuracy for ICU Admission: ',metrics.accuracy_score(y_test, y_pred))\n",
    "\n",
    "# determining the probability of each feature being a 1 or 0\n",
    "y_predict_prob_lr = model.predict_proba(X_test)\n",
    "# getting the fpr and tpr from the testing target label and the probability\n",
    "fpr, tpr, thresholds = metrics.roc_curve(y_test, y_predict_prob_lr[:,1], pos_label=1)\n",
    "# print('\\u0332'.join('\\nFalse Positive Rate:\\n'), fpr)\n",
    "# print('\\u0332'.join('True Positive Rate:\\n'), tpr)\n",
    "\n",
    "# calculating the area under the curve using the false positive and true positive rates\n",
    "AUC = metrics.auc(fpr, tpr)\n",
    "print('\\nArea under the curve: ', AUC)\n",
    "\n",
    "# plotting the fpr and tpr on a graph\n",
    "plt.figure()\n",
    "\n",
    "# will plot the curve and create what the legend will display\n",
    "plt.plot(fpr, tpr, color='red', lw=2, \n",
    "         label='ROC Curve (area = %0.2f)' % AUC)\n",
    "\n",
    "# plotting the random guess line\n",
    "plt.plot([0, 1], [0, 1], color='blue', lw=1, linestyle='--')\n",
    "\n",
    "# setting the ranges of the axis\n",
    "plt.xlim([-0.005, 1.005])\n",
    "plt.ylim([0.0, 1.01])\n",
    "\n",
    "plt.xlabel('False Positive Rate')\n",
    "plt.ylabel('True Positive Rate')\n",
    "plt.title('Receiver operating characteristic')\n",
    "plt.legend(loc=\"lower right\")\n",
    "\n",
    "plt.show()"
   ]
  },
  {
   "cell_type": "markdown",
   "metadata": {},
   "source": [
    "# Hospitalization"
   ]
  },
  {
   "cell_type": "code",
   "execution_count": 8,
   "metadata": {},
   "outputs": [
    {
     "name": "stdout",
     "output_type": "stream",
     "text": [
      "\n",
      "̲B̲e̲s̲t̲ ̲f̲e̲a̲t̲u̲r̲e̲s̲ ̲f̲o̲r̲ ̲a̲c̲c̲u̲r̲a̲c̲y̲:\n",
      "age>=65\n",
      "comor_Hypertension\n",
      "xray_Bilateral pulmory infiltrates\n",
      "comp_Any complication\n",
      "comp_Pneumonia\n",
      "treat_Hydroxychloroquine\n",
      "treat_Azithromycin\n",
      "treat_Lopivir/Ritovir\n",
      "treat_Oxygen_therapy\n",
      "\n",
      "Accuracy for Hospitalization:  0.8\n",
      "\n",
      "Area under the curve:  0.8572106261859582\n"
     ]
    },
    {
     "data": {
      "image/png": "[encoded data removed]",
      "text/plain": [
       "<Figure size 432x288 with 1 Axes>"
      ]
     },
     "metadata": {
      "needs_background": "light"
     },
     "output_type": "display_data"
    }
   ],
   "source": [
    "y_hospital = df['evol_Hospitalization']\n",
    "\n",
    "# performing chi2 test on the features matrix and target label. This will return a numpy array\n",
    "new_X_hospital = kBest.fit_transform(X,y_hospital)\n",
    "# finding and returning the indices of the features selected by the chi2 test\n",
    "cols = kBest.get_support(indices=True)\n",
    "# getting the name of the columns from the indices returned. Can be stored in a dictionary for each outcome to try and\n",
    "# determine the shared features between all the outcomes.\n",
    "get_features(cols, X_copy)\n",
    "\n",
    "# splitting our data into a training and testing set.\n",
    "X_train,X_test,y_train,y_test = train_test_split(new_X_hospital,y_hospital,test_size=0.20,random_state=42)\n",
    "# fitting our training features matrix and training label target to our Logistic Regression model\n",
    "model.fit(X_train,y_train)\n",
    "\n",
    "# predicting the outcome of our model\n",
    "y_pred=model.predict(X_test)\n",
    "\n",
    "# determining the accuracy of our model\n",
    "print(f'\\nAccuracy for Hospitalization: ',metrics.accuracy_score(y_test, y_pred))\n",
    "\n",
    "# determining the probability of each feature being a 1 or 0\n",
    "y_predict_prob_lr = model.predict_proba(X_test)\n",
    "# getting the fpr and tpr from the testing target label and the probability\n",
    "fpr, tpr, thresholds = metrics.roc_curve(y_test, y_predict_prob_lr[:,1], pos_label=1)\n",
    "# print('\\u0332'.join('\\nFalse Positive Rate:\\n'), fpr)\n",
    "# print('\\u0332'.join('True Positive Rate:\\n'), tpr)\n",
    "\n",
    "# calculating the area under the curve using the false positive and true positive rates\n",
    "AUC = metrics.auc(fpr, tpr)\n",
    "print('\\nArea under the curve: ', AUC)\n",
    "\n",
    "# plotting the fpr and tpr on a graph\n",
    "plt.figure()\n",
    "\n",
    "# will plot the curve and create what the legend will display\n",
    "plt.plot(fpr, tpr, color='red', lw=2, \n",
    "         label='ROC Curve (area = %0.2f)' % AUC)\n",
    "\n",
    "# plotting the random guess line\n",
    "plt.plot([0, 1], [0, 1], color='blue', lw=1, linestyle='--')\n",
    "\n",
    "# setting the ranges of the axis\n",
    "plt.xlim([-0.005, 1.005])\n",
    "plt.ylim([0.0, 1.01])\n",
    "\n",
    "plt.xlabel('False Positive Rate')\n",
    "plt.ylabel('True Positive Rate')\n",
    "plt.title('Receiver operating characteristic')\n",
    "plt.legend(loc=\"lower right\")\n",
    "\n",
    "plt.show()"
   ]
  },
  {
   "cell_type": "markdown",
   "metadata": {},
   "source": [
    "# Recovered"
   ]
  },
  {
   "cell_type": "code",
   "execution_count": 9,
   "metadata": {},
   "outputs": [
    {
     "name": "stdout",
     "output_type": "stream",
     "text": [
      "\n",
      "̲B̲e̲s̲t̲ ̲f̲e̲a̲t̲u̲r̲e̲s̲ ̲f̲o̲r̲ ̲a̲c̲c̲u̲r̲a̲c̲y̲:\n",
      "exam_Tachypnoea\n",
      "oxy_saturation<92\n",
      "comor_Hypertension\n",
      "comor_Chronic obstructive pulmory disease\n",
      "comor_Depression\n",
      "comp_Any complication\n",
      "comp_Pneumonia\n",
      "treat_Oxygen_therapy\n",
      "c-reac>10\n",
      "\n",
      "Accuracy for Recovered:  0.8923076923076924\n",
      "\n",
      "Area under the curve:  0.6551724137931034\n"
     ]
    },
    {
     "data": {
      "image/png": "[encoded data removed]",
      "text/plain": [
       "<Figure size 432x288 with 1 Axes>"
      ]
     },
     "metadata": {
      "needs_background": "light"
     },
     "output_type": "display_data"
    }
   ],
   "source": [
    "y_recovered = df['evol_Recovered']\n",
    "\n",
    "# performing chi2 test on the features matrix and target label. This will return a numpy array\n",
    "new_X_recovered = kBest.fit_transform(X,y_recovered)\n",
    "# finding and returning the indices of the features selected by the chi2 test\n",
    "cols = kBest.get_support(indices=True)\n",
    "# getting the name of the columns from the indices returned. Can be stored in a dictionary for each outcome to try and\n",
    "# determine the shared features between all the outcomes.\n",
    "get_features(cols, X_copy)\n",
    "\n",
    "# splitting our data into a training and testing set.\n",
    "X_train,X_test,y_train,y_test = train_test_split(new_X_recovered,y_recovered,test_size=0.20,random_state=42)\n",
    "# fitting our training features matrix and training label target to our Logistic Regression model\n",
    "model.fit(X_train,y_train)\n",
    "\n",
    "# predicting the outcome of our model\n",
    "y_pred=model.predict(X_test)\n",
    "\n",
    "# determining the accuracy of our model\n",
    "print(f'\\nAccuracy for Recovered: ',metrics.accuracy_score(y_test, y_pred))\n",
    "\n",
    "# determining the probability of each feature being a 1 or 0\n",
    "y_predict_prob_lr = model.predict_proba(X_test)\n",
    "# getting the fpr and tpr from the testing target label and the probability\n",
    "fpr, tpr, thresholds = metrics.roc_curve(y_test, y_predict_prob_lr[:,1], pos_label=1)\n",
    "# print('\\u0332'.join('\\nFalse Positive Rate:\\n'), fpr)\n",
    "# print('\\u0332'.join('True Positive Rate:\\n'), tpr)\n",
    "\n",
    "# calculating the area under the curve using the false positive and true positive rates\n",
    "AUC = metrics.auc(fpr, tpr)\n",
    "print('\\nArea under the curve: ', AUC)\n",
    "\n",
    "# plotting the fpr and tpr on a graph\n",
    "plt.figure()\n",
    "\n",
    "# will plot the curve and create what the legend will display\n",
    "plt.plot(fpr, tpr, color='red', lw=2, \n",
    "         label='ROC Curve (area = %0.2f)' % AUC)\n",
    "\n",
    "# plotting the random guess line\n",
    "plt.plot([0, 1], [0, 1], color='blue', lw=1, linestyle='--')\n",
    "\n",
    "# setting the ranges of the axis\n",
    "plt.xlim([-0.005, 1.005])\n",
    "plt.ylim([0.0, 1.01])\n",
    "\n",
    "plt.xlabel('False Positive Rate')\n",
    "plt.ylabel('True Positive Rate')\n",
    "plt.title('Receiver operating characteristic')\n",
    "plt.legend(loc=\"lower right\")\n",
    "\n",
    "plt.show()"
   ]
  },
  {
   "cell_type": "code",
   "execution_count": null,
   "metadata": {},
   "outputs": [],
   "source": []
  }
 ],
 "metadata": {
  "kernelspec": {
   "display_name": "Python 3",
   "language": "python",
   "name": "python3"
  },
  "language_info": {
   "codemirror_mode": {
    "name": "ipython",
    "version": 3
   },
   "file_extension": ".py",
   "mimetype": "text/x-python",
   "name": "python",
   "nbconvert_exporter": "python",
   "pygments_lexer": "ipython3",
   "version": "3.8.3"
  }
 },
 "nbformat": 4,
 "nbformat_minor": 4
}
