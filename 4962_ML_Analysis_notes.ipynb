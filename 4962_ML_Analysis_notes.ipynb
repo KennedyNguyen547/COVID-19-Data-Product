{
 "cells": [
  {
   "cell_type": "markdown",
   "metadata": {},
   "source": [
    "\n",
    "# Note for general machine learning procedures\n",
    "# Note that the cell outputs and file links have been erased, and the notebook kernel has been reset to protect confidential data\n"
   ]
  },
  {
   "cell_type": "code",
   "execution_count": null,
   "metadata": {
    "scrolled": true
   },
   "outputs": [],
   "source": [
    "\n",
    "\n",
    "import numpy as np\n",
    "import pandas as pd\n",
    "import time\n",
    "\n",
    "# remember to check the file path names\n",
    "cv19_cat_df = pd.read_csv()\n",
    "\n",
    "#also remember to change the missing (null) values to numpy \"not a number\" or nan\n",
    "cv19_cat_df.fillna(np.nan)\n",
    "\n",
    "\n"
   ]
  },
  {
   "cell_type": "markdown",
   "metadata": {},
   "source": [
    "\n",
    "# KNN Imputation\n"
   ]
  },
  {
   "cell_type": "code",
   "execution_count": null,
   "metadata": {},
   "outputs": [],
   "source": [
    "\n",
    "from sklearn.impute import KNNImputer\n",
    "\n",
    "# construct the knn imputator with 1 nearest neighbor\n",
    "knn1_imputer = KNNImputer(missing_values=np.nan, n_neighbors =1, weights='uniform', metric='nan_euclidean', copy ='False')\n",
    "\n",
    "# train (fit) the model, then transform does the imputation\n",
    "cv19_cat_knn_imp = knn1_imputer.fit_transform( cv19_cat_df )\n",
    "\n",
    "# this line creates a new dataframe with the data imputated\n",
    "cv19_cat_knn_imp_df = pd.DataFrame(cv19_cat_knn_imp, columns = cv19_cat_df.columns)\n"
   ]
  },
  {
   "cell_type": "markdown",
   "metadata": {},
   "source": [
    "\n",
    "# Setting up the dataframe sections (slices) for testing and training the model, <br> and doing Chi Square Test \n"
   ]
  },
  {
   "cell_type": "code",
   "execution_count": null,
   "metadata": {},
   "outputs": [],
   "source": [
    "\n",
    "\n",
    "# get the column names of the original data\n",
    "cv19_cat_feature_cols = list (cv19_cat_df.columns)\n",
    "\n",
    "# remove the names of the columns that are labels (also called targets, these are what we are tryingto predict)\n",
    "cv19_cat_feature_cols.remove('evol_Death')\n",
    "cv19_cat_feature_cols.remove('evol_ICU_admission')\n",
    "cv19_cat_feature_cols.remove('evol_Hospitalization')\n",
    "cv19_cat_feature_cols.remove('evol_Recovered')\n",
    "\n",
    "# create the feature section (also called feature matrix or X) for each dataframe\n",
    "cv19_cat_knn_features = cv19_cat_knn_imp_df[cv19_cat_feature_cols]\n",
    "\n",
    "#create the label sections (or simply Y)\n",
    "cv19_cat_knn_deaths_labels = cv19_cat_knn_imp_df[ 'evol_Death']\n",
    "cv19_cat_knn_ICUs_labels = cv19_cat_knn_imp_df[ 'evol_ICU_admission']\n",
    "cv19_cat_knn_hospitalizations_labels = cv19_cat_knn_imp_df[ 'evol_Hospitalization']\n",
    "cv19_cat_knn_recovered_labels = cv19_cat_knn_imp_df[ 'evol_Recovered']\n",
    "\n",
    "# the features for chi square test\n",
    "cv19_cat_array = cv19_cat_knn_features.values\n",
    "\n",
    "# the death labels for chi square test\n",
    "cv19_cat_death_lb_array = cv19_cat_knn_deaths_labels.values\n",
    "\n",
    "# the ICU labels for chi square test\n",
    "cv19_cat_ICU_lb_array = cv19_cat_knn_ICUs_labels.values\n",
    "\n",
    "# the hospitalization labels for chi square test\n",
    "cv19_cat_hospitalizations_lb_array = cv19_cat_knn_hospitalizations_labels.values\n",
    "\n"
   ]
  },
  {
   "cell_type": "markdown",
   "metadata": {},
   "source": [
    "\n",
    "# Chi2 Square Test (For Death Outcomes)\n"
   ]
  },
  {
   "cell_type": "code",
   "execution_count": null,
   "metadata": {},
   "outputs": [],
   "source": [
    "\n",
    "# the follow codes do feature selection\n",
    "# based on the goodness of fit tests using chi squared tests\n",
    "from sklearn.feature_selection import SelectKBest\n",
    "from sklearn.feature_selection import chi2\n",
    "\n",
    "# setup the testing model for k = 5 features\n",
    "best5_chi2_deaths_label_test = SelectKBest(score_func=chi2, k= 5)\n",
    "\n",
    "# run/fit the testing model with the features and label(s)\n",
    "best5_chi2_deaths_label_test.fit(cv19_cat_array, cv19_cat_death_lb_array)\n",
    "\n",
    "# this is to get the indices of the column features that are kept by the model\n",
    "selected_deaths_features_indices_top5 = best5_chi2_deaths_label_test.get_support(indices = True)\n",
    "\n",
    "# this is to get the scores of the selected features\n",
    "selected_deaths_features_scores_top5 = best5_chi2_deaths_label_test.scores_[selected_deaths_features_indices_top5]\n",
    "\n",
    "# this is to get the feature names of the corresponding columns\n",
    "# in the dataframe\n",
    "selected_deaths_features_top5 = []\n",
    "for index in selected_deaths_features_indices_top5:\n",
    "    selected_deaths_features_top5.append(cv19_cat_knn_imp_df.columns[index])\n"
   ]
  },
  {
   "cell_type": "code",
   "execution_count": null,
   "metadata": {},
   "outputs": [],
   "source": [
    "\n",
    "print (selected_deaths_features_indices_top5) \n",
    "print (selected_deaths_features_scores_top5)\n",
    "print (selected_deaths_features_top5)\n"
   ]
  },
  {
   "cell_type": "markdown",
   "metadata": {},
   "source": [
    "\n",
    "# Using matplotlib to graph the Chi Square Test Results\n"
   ]
  },
  {
   "cell_type": "code",
   "execution_count": null,
   "metadata": {},
   "outputs": [],
   "source": [
    "\n",
    "import matplotlib.pyplot as plt\n",
    "\n",
    "# the codes below generate a horizontal bar graph\n",
    "# for the top five features\n",
    "\n",
    "plt.rcdefaults()\n",
    "top5_figure, top5_axes = plt.subplots()\n",
    "top5_y_pos = np.arange( len(selected_deaths_features_top5) )\n",
    "top5_axes.barh( top5_y_pos, width = selected_deaths_features_scores_top5, color='red', align='center' )\n",
    "top5_axes.set_yticks( top5_y_pos )\n",
    "top5_axes.set_yticklabels(selected_deaths_features_top5)\n",
    "top5_axes.invert_yaxis()\n",
    "top5_axes.set_xlabel('Chi Squared Test Scores')\n",
    "top5_axes.set_title('Chi Squared Test Scores of The Top Five\\nFeatures of Death Outcomes Using KNN Imputation')\n",
    "plt.show()"
   ]
  },
  {
   "cell_type": "markdown",
   "metadata": {},
   "source": [
    "\n",
    "# Chi2 Square Test (For ICU and hospitalization Outcomes)\n"
   ]
  },
  {
   "cell_type": "code",
   "execution_count": null,
   "metadata": {},
   "outputs": [],
   "source": [
    "\n",
    "# setup the testing model for k = 5 features\n",
    "best5_chi2_ICUs_label_test = SelectKBest(score_func=chi2, k= 5)\n",
    "\n",
    "# run/fit the testing model with the features and label(s)\n",
    "best5_chi2_ICUs_label_test.fit(cv19_cat_array, cv19_cat_ICU_lb_array)\n",
    "\n",
    "# this is to get the indices of the column features that are kept by the model\n",
    "selected_ICUs_features_indices_top5 = best5_chi2_ICUs_label_test.get_support(indices = True)\n",
    "\n",
    "# this is to get the scores of the selected features\n",
    "selected_ICUs_features_scores_top5 = best5_chi2_ICUs_label_test.scores_[selected_ICUs_features_indices_top5]\n",
    "\n",
    "# this is to get the feature names of the corresponding columns\n",
    "# in the dataframe\n",
    "selected_ICUs_features_top5 = []\n",
    "for index in selected_ICUs_features_indices_top5:\n",
    "    selected_ICUs_features_top5.append(cv19_cat_knn_imp_df.columns[index])\n",
    "\n",
    "    \n",
    "# setup the testing model for k = 5 features\n",
    "best5_chi2_hospitalizations_label_test = SelectKBest(score_func=chi2, k= 5)\n",
    "\n",
    "# run/fit the testing model with the features and label(s)\n",
    "best5_chi2_hospitalizations_label_test.fit(cv19_cat_array, cv19_cat_hospitalizations_lb_array)\n",
    "\n",
    "# this is to get the indices of the column features that are kept by the model\n",
    "selected_hospitalizations_features_indices_top5 = best5_chi2_hospitalizations_label_test.get_support(indices = True)\n",
    "\n",
    "# this is to get the scores of the selected features\n",
    "selected_hospitalizations_features_scores_top5 = best5_chi2_hospitalizations_label_test.scores_[selected_hospitalizations_features_indices_top5]\n",
    "\n",
    "# this is to get the feature names of the corresponding columns\n",
    "# in the dataframe\n",
    "selected_hospitalizations_features_top5 = []\n",
    "for index in selected_hospitalizations_features_indices_top5:\n",
    "    selected_hospitalizations_features_top5.append(cv19_cat_knn_imp_df.columns[index])\n"
   ]
  },
  {
   "cell_type": "code",
   "execution_count": null,
   "metadata": {},
   "outputs": [],
   "source": [
    "\n",
    "# the codes below generate a horizontal bar graph\n",
    "# for the top five features\n",
    "\n",
    "plt.rcdefaults()\n",
    "top5_figure, top5_axes = plt.subplots()\n",
    "top5_y_pos = np.arange( len(selected_ICUs_features_top5) )\n",
    "top5_axes.barh( top5_y_pos, width = selected_ICUs_features_scores_top5, color='orange', align='center' )\n",
    "top5_axes.set_yticks( top5_y_pos )\n",
    "top5_axes.set_yticklabels(selected_ICUs_features_top5)\n",
    "top5_axes.invert_yaxis()\n",
    "top5_axes.set_xlabel('Chi Squared Test Scores')\n",
    "top5_axes.set_title('Chi Squared Test Scores of The Top Five\\nFeatures of ICU Outcomes Using KNN Imputation')\n",
    "plt.show()\n"
   ]
  },
  {
   "cell_type": "code",
   "execution_count": null,
   "metadata": {},
   "outputs": [],
   "source": [
    "\n",
    "# the codes below generate a horizontal bar graph\n",
    "# for the top five features\n",
    "\n",
    "plt.rcdefaults()\n",
    "top5_figure, top5_axes = plt.subplots()\n",
    "top5_y_pos = np.arange( len(selected_hospitalizations_features_top5) )\n",
    "top5_axes.barh( top5_y_pos, width = selected_hospitalizations_features_scores_top5, color='yellow', align='center' )\n",
    "top5_axes.set_yticks( top5_y_pos )\n",
    "top5_axes.set_yticklabels(selected_hospitalizations_features_top5)\n",
    "top5_axes.invert_yaxis()\n",
    "top5_axes.set_xlabel('Chi Squared Test Scores')\n",
    "top5_axes.set_title('Chi Squared Test Scores of The Top Five\\nFeatures of Hospitalizations Outcomes Using KNN Imputation')\n",
    "plt.show()\n"
   ]
  },
  {
   "cell_type": "markdown",
   "metadata": {},
   "source": [
    "\n",
    "# Setting up the training sets and testing sets\n"
   ]
  },
  {
   "cell_type": "code",
   "execution_count": null,
   "metadata": {},
   "outputs": [],
   "source": [
    "\n",
    "from sklearn.model_selection import train_test_split\n",
    "\n",
    "# Notes: you can name the sets whatevers\n",
    "# I choose to use obvious names to make things easier for myself\n",
    "\n",
    "# the format is\n",
    "# Features_Training, Features_Testing, Labels_Training, Labels_Testing = train_test_split(parameters)\n",
    "# the parameters follow the format ( Feature_Matrix, Labels_Matrix, test_size = #.##, random_state = ## )\n",
    "# test_size = 0.1 means 10% for testing and 90% for training, 0.2 means 20% for testing and 80% for training\n",
    "\n",
    "# setting up training and testing sets for knn imputated data\n",
    "knn_deaths_features_training, knn_deaths_features_testing, knn_deaths_labels_training, knn_deaths_labels_testing = train_test_split(cv19_cat_knn_features, cv19_cat_knn_deaths_labels, test_size = 0.2, random_state = 2)\n",
    "knn_ICUs_features_training, knn_ICUs_features_testing, knn_ICUs_labels_training, knn_ICUs_labels_testing = train_test_split(cv19_cat_knn_features, cv19_cat_knn_ICUs_labels, test_size = 0.2, random_state = 2)\n",
    "knn_hospitalizations_features_training, knn_hospitalizations_features_testing, knn_hospitalizations_labels_training, knn_hospitalizations_labels_testing = train_test_split(cv19_cat_knn_features, cv19_cat_knn_hospitalizations_labels, test_size = 0.2, random_state = 2)\n",
    "knn_recovered_features_training, knn_recovered_features_testing, knn_recovered_labels_training, knn_recovered_labels_testing = train_test_split(cv19_cat_knn_features, cv19_cat_knn_recovered_labels, test_size = 0.2, random_state = 2)\n",
    "\n",
    "\n"
   ]
  },
  {
   "cell_type": "markdown",
   "metadata": {},
   "source": [
    "\n",
    "\n",
    "# Training Logistic Regression Models\n",
    "\n",
    "Below codes will do death, ICU, and hospitalization outcomes for knn \n"
   ]
  },
  {
   "cell_type": "code",
   "execution_count": null,
   "metadata": {},
   "outputs": [],
   "source": [
    "\n",
    "from sklearn.linear_model import LogisticRegression\n",
    "from sklearn import metrics\n",
    "from sklearn.metrics import accuracy_score\n",
    "\n",
    "# the order goes as follows:\n",
    "\n",
    "# construct the model - max_iter parameter can be omitted\n",
    "# model.fit (Features_Training, Labels_Training) - this trains the model\n",
    "# predictions = model.predict (Features_Testing) - this will use the model\n",
    "# to predict the labels of the testing features set\n",
    "# probabilities = model.predict_proba (Features_Testing)\n",
    "# algorithms like Logistic Regression can do this - some algorithms cannot do this\n",
    "# FPR, TPR, Thresholds = metrics.roc_curve ( Labels_Testing, probabilities[:, 1], pos_label = 1 )\n",
    "# AUC = metrics.auc (FPR, TPR)\n",
    "# accuracy = accuracy_score (Labels_Testing, predictions)\n",
    "\n",
    "# Note:\n",
    "# FPR, TPR, Thresholds = metrics.roc_curve ( Labels_Testing, probabilities[:,1], pos_label = 1 )\n",
    "# FPR is false positive rate, TPR is True positive rate, thresholds is the boundary that makes the decisions for each\n",
    "# normally in the probabilities list, it is a list of pairs. in this case the 2nd of the pair is the positive label\n",
    "# since \"1\" marks postive, you set that parameter\n",
    "# if the positive label is not a number, set pos_label = 'name value of positive'\n",
    "# if the positive label is the 1st of the pair, set probabilities[:,0]\n",
    "\n"
   ]
  },
  {
   "cell_type": "markdown",
   "metadata": {},
   "source": [
    "\n",
    "# Logistic Regresison for Death Outcomes.\n"
   ]
  },
  {
   "cell_type": "code",
   "execution_count": null,
   "metadata": {},
   "outputs": [],
   "source": [
    "\n",
    "knn_deaths_lgr_clssr = LogisticRegression(max_iter=1500)\n",
    "knn_deaths_lgr_clssr.fit (knn_deaths_features_training, knn_deaths_labels_training)\n",
    "knn_deaths_features_predictions = knn_deaths_lgr_clssr.predict(knn_deaths_features_testing)\n",
    "knn_deaths_features_probabilities = knn_deaths_lgr_clssr.predict_proba(knn_deaths_features_testing)\n",
    "knn_deaths_FPR, knn_deaths_TPR, knn_deaths_Thresholds = metrics.roc_curve(knn_deaths_labels_testing, knn_deaths_features_probabilities[:,1], pos_label = 1)\n",
    "knn_deaths_AUC = metrics.auc(knn_deaths_FPR, knn_deaths_TPR)\n",
    "knn_deaths_features_accuracy = accuracy_score(knn_deaths_labels_testing, knn_deaths_features_predictions)\n"
   ]
  },
  {
   "cell_type": "markdown",
   "metadata": {},
   "source": [
    "\n",
    "# Logistic Regresison for ICU Outcomes.\n"
   ]
  },
  {
   "cell_type": "code",
   "execution_count": null,
   "metadata": {},
   "outputs": [],
   "source": [
    "\n",
    "knn_ICUs_lgr_clssr = LogisticRegression(max_iter=1500)\n",
    "knn_ICUs_lgr_clssr.fit (knn_ICUs_features_training, knn_ICUs_labels_training)\n",
    "knn_ICUs_features_predictions = knn_ICUs_lgr_clssr.predict(knn_ICUs_features_testing)\n",
    "knn_ICUs_features_probabilities = knn_ICUs_lgr_clssr.predict_proba(knn_ICUs_features_testing)\n",
    "knn_ICUs_FPR, knn_ICUs_TPR, knn_ICUs_Thresholds = metrics.roc_curve(knn_ICUs_labels_testing, knn_ICUs_features_probabilities[:,1], pos_label = 1)\n",
    "knn_ICUs_AUC = metrics.auc(knn_ICUs_FPR, knn_ICUs_TPR)\n",
    "knn_ICUs_features_accuracy = accuracy_score(knn_ICUs_labels_testing, knn_ICUs_features_predictions)\n"
   ]
  },
  {
   "cell_type": "markdown",
   "metadata": {},
   "source": [
    "\n",
    "# Logistic Regresison for Hospitalizations Outcomes.\n"
   ]
  },
  {
   "cell_type": "code",
   "execution_count": null,
   "metadata": {},
   "outputs": [],
   "source": [
    "\n",
    "knn_HZs_lgr_clssr = LogisticRegression(max_iter=1500)\n",
    "knn_HZs_lgr_clssr.fit (knn_hospitalizations_features_training, knn_hospitalizations_labels_training)\n",
    "knn_HZs_features_predictions = knn_HZs_lgr_clssr.predict(knn_hospitalizations_features_testing)\n",
    "knn_HZs_features_probabilities = knn_HZs_lgr_clssr.predict_proba(knn_hospitalizations_features_testing)\n",
    "knn_HZs_FPR, knn_HZs_TPR, knn_HZs_Thresholds = metrics.roc_curve(knn_hospitalizations_labels_testing, knn_HZs_features_probabilities[:,1], pos_label = 1)\n",
    "knn_HZs_AUC = metrics.auc(knn_HZs_FPR, knn_HZs_TPR)\n",
    "knn_HZs_features_accuracy = accuracy_score(knn_hospitalizations_labels_testing, knn_HZs_features_predictions)\n"
   ]
  },
  {
   "cell_type": "code",
   "execution_count": null,
   "metadata": {},
   "outputs": [],
   "source": [
    "\n",
    "print('The Accuracy Score for Death Outcomes is: ', '%0.4f' % knn_deaths_features_accuracy)\n",
    "print('The Accuracy Score for ICU Outcomes is: ', '%0.4f' % knn_ICUs_features_accuracy)\n",
    "print('The Accuracy Score for Hospitalization Outcomes is: ', '%0.4f' % knn_HZs_features_accuracy)\n"
   ]
  },
  {
   "cell_type": "markdown",
   "metadata": {},
   "source": [
    "\n",
    "# Using matplotlib to graph the False Positive Rate (FPR), True Positive Rate (TPR), and AUC (Area under the [ROC] Curve).\n",
    "# Note: Using certain algorithms that has the predict_proba function will make AUC values easier to calculate.\n",
    "# If predict_proba is not available, you will need to use sklearn confusion matrix to calculate them.\n"
   ]
  },
  {
   "cell_type": "code",
   "execution_count": null,
   "metadata": {},
   "outputs": [],
   "source": [
    "\n",
    "%matplotlib inline\n",
    "\n",
    "plt.rcParams.update({'font.size': 16})\n",
    "\n",
    "plt.figure(figsize =(12, 8))\n",
    "\n",
    "# you need FPR, TPR, and AUC to plot graphs like below.\n",
    "\n",
    "plt.plot(knn_deaths_FPR, knn_deaths_TPR, color='red', lw= 3, \n",
    "           label='KNN Imputated Deaths ROC Curve ( area = %0.4f)' % knn_deaths_AUC)\n",
    "\n",
    "plt.plot(knn_ICUs_FPR, knn_ICUs_TPR, color='orange', lw= 3, \n",
    "           label='KNN Imputated ICUs ROC Curve ( area = %0.4f)' % knn_ICUs_AUC)\n",
    "\n",
    "plt.plot(knn_HZs_FPR, knn_HZs_TPR, color='yellow', lw= 3, \n",
    "           label='KNN Imputated Hospitalizations ROC Curve ( area = %0.4f)' % knn_HZs_AUC)\n",
    "\n",
    "plt.plot([0, 1], [0, 1], color='blue', lw=2, \n",
    "         label ='Random Guess Line',linestyle='--')\n",
    "\n",
    "\n",
    "plt.xlabel('False Positive Rate')\n",
    "plt.ylabel('True Positive Rate')\n",
    "plt.title('Receiver Operating Characteristic')\n",
    "plt.legend(loc=\"lower right\")\n",
    "\n",
    "plt.show()"
   ]
  },
  {
   "cell_type": "code",
   "execution_count": null,
   "metadata": {},
   "outputs": [],
   "source": [
    "\n",
    "\n",
    "\n",
    "selected_deaths_features = cv19_cat_knn_imp_df[selected_deaths_features_top5]\n",
    "selected_deaths_features.head()\n",
    "\n",
    "\n",
    "selected_deaths_features_train, selected_deaths_features_test, selected_deaths_labels_train, selected_deaths_labels_test = train_test_split(selected_deaths_features, cv19_cat_knn_deaths_labels, test_size = 0.2, random_state=2)\n",
    "\n",
    "knn5_deaths_lgr_clssr = LogisticRegression(max_iter=1500)\n",
    "knn5_deaths_lgr_clssr.fit (selected_deaths_features_train, selected_deaths_labels_train)\n",
    "knn5_deaths_features_predictions = knn5_deaths_lgr_clssr.predict(selected_deaths_features_test)\n",
    "knn5_deaths_features_probabilities = knn5_deaths_lgr_clssr.predict_proba(selected_deaths_features_test)\n",
    "knn5_deaths_FPR, knn5_deaths_TPR, knn5_deaths_Thresholds = metrics.roc_curve( selected_deaths_labels_test, knn5_deaths_features_probabilities[:,1], pos_label = 1)\n",
    "knn5_deaths_AUC = metrics.auc(knn5_deaths_FPR, knn5_deaths_TPR)\n",
    "knn5_deaths_features_accuracy = accuracy_score( selected_deaths_labels_test, knn5_deaths_features_predictions)\n",
    "\n"
   ]
  },
  {
   "cell_type": "code",
   "execution_count": null,
   "metadata": {},
   "outputs": [],
   "source": []
  }
 ],
 "metadata": {
  "kernelspec": {
   "display_name": "Python 3",
   "language": "python",
   "name": "python3"
  },
  "language_info": {
   "codemirror_mode": {
    "name": "ipython",
    "version": 3
   },
   "file_extension": ".py",
   "mimetype": "text/x-python",
   "name": "python",
   "nbconvert_exporter": "python",
   "pygments_lexer": "ipython3",
   "version": "3.8.5"
  }
 },
 "nbformat": 4,
 "nbformat_minor": 4
}
