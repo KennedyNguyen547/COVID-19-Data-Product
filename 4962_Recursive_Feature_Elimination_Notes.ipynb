{
 "cells": [
  {
   "cell_type": "markdown",
   "metadata": {},
   "source": [
    "\n",
    "\n",
    "# Notes on RFE and RFECV from sklearn\n",
    "# Note that the cell outputs and file links have been erased, and the notebook kernel has been reset to protect confidential data"
   ]
  },
  {
   "cell_type": "code",
   "execution_count": null,
   "metadata": {},
   "outputs": [],
   "source": [
    "\n",
    "import numpy as np\n",
    "import pandas as pd\n",
    "import time\n",
    "\n",
    "# remember to check the file path names\n",
    "cv19_cat_df = pd.read_csv()\n",
    "\n",
    "#also remember to change the missing (null) values to numpy \"not a number\" or nan\n",
    "cv19_cat_df.fillna(np.nan)\n"
   ]
  },
  {
   "cell_type": "markdown",
   "metadata": {},
   "source": [
    "\n",
    "# KNN Imputation\n",
    "\n"
   ]
  },
  {
   "cell_type": "code",
   "execution_count": null,
   "metadata": {},
   "outputs": [],
   "source": [
    "\n",
    "\n",
    "from sklearn.impute import KNNImputer\n",
    "\n",
    "# construct the knn imputator with 1 nearest neighbor\n",
    "knn1_imputer = KNNImputer(missing_values=np.nan, n_neighbors =1, weights='uniform', metric='nan_euclidean', copy ='False')\n",
    "\n",
    "# train (fit) the model, then transform does the imputation\n",
    "cv19_cat_knn_imp = knn1_imputer.fit_transform( cv19_cat_df )\n",
    "\n",
    "# this line creates a new dataframe with the data imputated\n",
    "cv19_cat_knn_imp_df = pd.DataFrame( cv19_cat_knn_imp, columns = cv19_cat_df.columns )\n"
   ]
  },
  {
   "cell_type": "markdown",
   "metadata": {},
   "source": [
    "\n",
    "# Iterative Imputation\n"
   ]
  },
  {
   "cell_type": "code",
   "execution_count": null,
   "metadata": {},
   "outputs": [],
   "source": [
    "\n",
    "from sklearn.experimental import enable_iterative_imputer\n",
    "from sklearn.impute import IterativeImputer\n",
    "from sklearn.ensemble import RandomForestClassifier\n",
    "\n",
    "# you can chose a different predicting algoirthm\n",
    "# 10 iterations should be decent - more iterations will take longer\n",
    "# you can also pick the random state number\n",
    "# construct the iterative imputer model with RFC as the classifier\n",
    "iterative_imputer = IterativeImputer(estimator = RandomForestClassifier(), initial_strategy = 'most_frequent', max_iter = 10, random_state = 2)\n",
    "\n",
    "# similar to the knn, you do training (fit) and then transform (imputing)\n",
    "cv19_cat_iter_imp = iterative_imputer.fit_transform(cv19_cat_df)\n",
    "\n",
    "# create the dataframe\n",
    "cv19_cat_iter_imp_df = pd.DataFrame(cv19_cat_iter_imp, columns = cv19_cat_df.columns)\n",
    "\n",
    "print('Done Processing!')\n"
   ]
  },
  {
   "cell_type": "code",
   "execution_count": null,
   "metadata": {},
   "outputs": [],
   "source": [
    "\n",
    "# get the column names of the original data\n",
    "cv19_cat_feature_cols = list (cv19_cat_df.columns)\n",
    "\n",
    "# remove the names of the columns that are labels (also called targets, these are what we are tryingto predict)\n",
    "cv19_cat_feature_cols.remove('evol_Death')\n",
    "cv19_cat_feature_cols.remove('evol_ICU_admission')\n",
    "cv19_cat_feature_cols.remove('evol_Hospitalization')\n",
    "cv19_cat_feature_cols.remove('evol_Recovered')\n",
    "\n",
    "# create the feature section (also called feature matrix or X) for each dataframe\n",
    "cv19_cat_knn_features = cv19_cat_knn_imp_df[cv19_cat_feature_cols]\n",
    "cv19_cat_iter_features = cv19_cat_iter_imp_df[cv19_cat_feature_cols]\n",
    "\n",
    "#create the label sections (or simply Y)\n",
    "cv19_cat_knn_deaths_labels = cv19_cat_knn_imp_df[ 'evol_Death']\n",
    "cv19_cat_knn_ICUs_labels = cv19_cat_knn_imp_df[ 'evol_ICU_admission']\n",
    "cv19_cat_knn_hospitalizations_labels = cv19_cat_knn_imp_df[ 'evol_Hospitalization']\n",
    "cv19_cat_knn_recovered_labels = cv19_cat_knn_imp_df[ 'evol_Recovered']\n",
    "\n",
    "cv19_cat_iter_deaths_labels = cv19_cat_iter_imp_df[ 'evol_Death']\n",
    "cv19_cat_iter_ICUs_labels = cv19_cat_iter_imp_df[ 'evol_ICU_admission']\n",
    "cv19_cat_iter_hospitalizations_labels = cv19_cat_iter_imp_df[ 'evol_Hospitalization']\n",
    "cv19_cat_iter_recovered_labels = cv19_cat_iter_imp_df[ 'evol_Recovered']\n"
   ]
  },
  {
   "cell_type": "markdown",
   "metadata": {},
   "source": [
    "\n",
    "# Recursive Feature Elimination (RFE) <br> We're going to try apply RFE on hospitalizations cases\n",
    "# Note: this may take a while."
   ]
  },
  {
   "cell_type": "code",
   "execution_count": null,
   "metadata": {},
   "outputs": [],
   "source": [
    "\n",
    "\n",
    "from sklearn.feature_selection import RFE\n",
    "\n",
    "# setting up the RFE model for 5 features\n",
    "rfe_for_knn = RFE(estimator = RandomForestClassifier(), n_features_to_select = 5, step = 1)\n",
    "rfe_for_iter = RFE(estimator = RandomForestClassifier(), n_features_to_select = 5, step = 1)\n",
    "\n",
    "# run/fit the testing model with the features and label(s)\n",
    "rfe_for_knn.fit(cv19_cat_knn_features, cv19_cat_knn_hospitalizations_labels)\n",
    "rfe_for_iter.fit(cv19_cat_iter_features, cv19_cat_iter_hospitalizations_labels)\n",
    "\n",
    "# this is to get the indices of the column features that are kept by the models\n",
    "selected_top5_knn_hospitalization_features_indices = rfe_for_knn.get_support(indices = True)\n",
    "selected_top5_iter_hospitalization_features_indices = rfe_for_iter.get_support(indices = True)\n",
    "\n",
    "# this is to get the feature names of the corresponding columns\n",
    "# in the dataframe\n",
    "selected_top5_knn_hospitalization_features = []\n",
    "selected_top5_iter_hospitalization_features = []\n",
    "for index in selected_top5_knn_hospitalization_features_indices:\n",
    "    selected_top5_knn_hospitalization_features.append(cv19_cat_knn_imp_df.columns[index])\n",
    "    selected_top5_iter_hospitalization_features.append(cv19_cat_iter_imp_df.columns[index])\n",
    "    \n",
    "print('Done Processing!')"
   ]
  },
  {
   "cell_type": "markdown",
   "metadata": {},
   "source": [
    "\n",
    "# Note: \n",
    "The selected features are based on a ranking. <br>\n",
    "The higher ranking features are kept. <br>\n",
    "In RFE, the features are eliminated iteratively in this case one by one (step = 1).<br>\n",
    "In RFE, the features selected may depend on the predicting model/algorithm used to rank the features,<br>\n",
    "We just happen to use Random Forest Classifier (RFC) as the model."
   ]
  },
  {
   "cell_type": "code",
   "execution_count": null,
   "metadata": {},
   "outputs": [],
   "source": [
    "\n",
    "print(selected_top5_knn_hospitalization_features)\n",
    "print(selected_top5_iter_hospitalization_features)\n"
   ]
  },
  {
   "cell_type": "markdown",
   "metadata": {},
   "source": [
    "\n",
    "# Using Recursive Feature Elimination w/ Cross Validation<br>Note:<br>Just like RFE, this may take a while.<br> If parameter n_jobs = -1 is set, this means all the available cpu cores are set to run in parallel while fitting across the chosen (cross validation) folds."
   ]
  },
  {
   "cell_type": "code",
   "execution_count": null,
   "metadata": {},
   "outputs": [],
   "source": [
    "\n",
    "from sklearn.feature_selection import RFECV\n",
    "\n",
    "# unlike RFE, this selects AT MINIMUM k number of chosen features\n",
    "# the setup is similar to RFE, except that the n_jobs parameter will determine the number of cpu cores\n",
    "# allocated to handle the cross validation folds.\n",
    "rfecv_for_knn = RFECV(estimator = RandomForestClassifier(), step = 1, min_features_to_select = 3, cv = 10, n_jobs = -1)\n",
    "rfecv_for_iter = RFECV(estimator = RandomForestClassifier(), step = 1, min_features_to_select = 3, cv = 10, n_jobs = -1)\n",
    "\n",
    "rfecv_for_knn.fit(cv19_cat_knn_features, cv19_cat_knn_hospitalizations_labels)\n",
    "rfecv_for_iter.fit(cv19_cat_iter_features, cv19_cat_iter_hospitalizations_labels)\n",
    "\n",
    "rfecv_selected_top_knn_hospitalization_features_indices = rfecv_for_knn.get_support(indices = True)\n",
    "rfecv_selected_top_iter_hospitalization_features_indices = rfecv_for_iter.get_support(indices = True)\n",
    "\n",
    "rfecv_selected_top_knn_hospitalization_features = []\n",
    "rfecv_selected_top_iter_hospitalization_features = []\n",
    "for index in selected_top5_knn_hospitalization_features_indices:\n",
    "    rfecv_selected_top_knn_hospitalization_features.append(cv19_cat_knn_imp_df.columns[index])\n",
    "    rfecv_selected_top_iter_hospitalization_features.append(cv19_cat_iter_imp_df.columns[index])\n",
    "    \n",
    "print('Done Processing!')"
   ]
  },
  {
   "cell_type": "code",
   "execution_count": null,
   "metadata": {},
   "outputs": [],
   "source": [
    "\n",
    "print(rfecv_selected_top_knn_hospitalization_features)\n",
    "print(rfecv_selected_top_iter_hospitalization_features)\n"
   ]
  },
  {
   "cell_type": "markdown",
   "metadata": {},
   "source": [
    "\n",
    "# Using matplotlib to visualize the RFECV with a graph\n"
   ]
  },
  {
   "cell_type": "code",
   "execution_count": null,
   "metadata": {},
   "outputs": [],
   "source": [
    "\n",
    "\n",
    "\n",
    "import matplotlib.pyplot as plt\n",
    "\n",
    "plt.figure(figsize = (12, 8))\n",
    "plt.xlabel('Number of features selected')\n",
    "plt.ylabel('CV Score (accuracy/number of correct predictions)')\n",
    "plt.plot(range(1, len(rfecv_for_knn.grid_scores_) + 1), rfecv_for_knn.grid_scores_, color = 'green',\n",
    "         lw = 3, label ='RFECV Line for KNN Imputated Data')\n",
    "\n",
    "plt.plot(range(1, len(rfecv_for_iter.grid_scores_) + 1), rfecv_for_iter.grid_scores_, color = 'orange',\n",
    "         lw = 3, label ='RFECV Line for Iteratively Imputated Data')\n",
    "plt.title('Recursive Feature Elimination with Cross Validation for KNN and Iteratively Imputated Data')\n",
    "plt.legend(loc='lower right')\n",
    "plt.show()"
   ]
  },
  {
   "cell_type": "code",
   "execution_count": null,
   "metadata": {},
   "outputs": [],
   "source": []
  }
 ],
 "metadata": {
  "kernelspec": {
   "display_name": "Python 3",
   "language": "python",
   "name": "python3"
  },
  "language_info": {
   "codemirror_mode": {
    "name": "ipython",
    "version": 3
   },
   "file_extension": ".py",
   "mimetype": "text/x-python",
   "name": "python",
   "nbconvert_exporter": "python",
   "pygments_lexer": "ipython3",
   "version": "3.8.5"
  }
 },
 "nbformat": 4,
 "nbformat_minor": 4
}
